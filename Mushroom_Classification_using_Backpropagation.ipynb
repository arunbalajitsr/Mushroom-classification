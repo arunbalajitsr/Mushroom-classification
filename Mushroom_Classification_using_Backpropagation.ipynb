{
  "nbformat": 4,
  "nbformat_minor": 0,
  "metadata": {
    "colab": {
      "name": "Mushroom Classification using Backpropagation",
      "provenance": [],
      "collapsed_sections": [],
      "authorship_tag": "ABX9TyN8/3fs4DWas64K4qmHlc4Y",
      "include_colab_link": true
    },
    "kernelspec": {
      "name": "python3",
      "display_name": "Python 3"
    }
  },
  "cells": [
    {
      "cell_type": "markdown",
      "metadata": {
        "id": "view-in-github",
        "colab_type": "text"
      },
      "source": [
        "<a href=\"https://colab.research.google.com/github/arunbalajitsr/Mushroom-classification/blob/main/Mushroom_Classification_using_Backpropagation.ipynb\" target=\"_parent\"><img src=\"https://colab.research.google.com/assets/colab-badge.svg\" alt=\"Open In Colab\"/></a>"
      ]
    },
    {
      "cell_type": "markdown",
      "metadata": {
        "id": "732CGDFaNqfg"
      },
      "source": [
        "Uploading dataset:"
      ]
    },
    {
      "cell_type": "code",
      "metadata": {
        "colab": {
          "resources": {
            "http://localhost:8080/nbextensions/google.colab/files.js": {
              "data": "Ly8gQ29weXJpZ2h0IDIwMTcgR29vZ2xlIExMQwovLwovLyBMaWNlbnNlZCB1bmRlciB0aGUgQXBhY2hlIExpY2Vuc2UsIFZlcnNpb24gMi4wICh0aGUgIkxpY2Vuc2UiKTsKLy8geW91IG1heSBub3QgdXNlIHRoaXMgZmlsZSBleGNlcHQgaW4gY29tcGxpYW5jZSB3aXRoIHRoZSBMaWNlbnNlLgovLyBZb3UgbWF5IG9idGFpbiBhIGNvcHkgb2YgdGhlIExpY2Vuc2UgYXQKLy8KLy8gICAgICBodHRwOi8vd3d3LmFwYWNoZS5vcmcvbGljZW5zZXMvTElDRU5TRS0yLjAKLy8KLy8gVW5sZXNzIHJlcXVpcmVkIGJ5IGFwcGxpY2FibGUgbGF3IG9yIGFncmVlZCB0byBpbiB3cml0aW5nLCBzb2Z0d2FyZQovLyBkaXN0cmlidXRlZCB1bmRlciB0aGUgTGljZW5zZSBpcyBkaXN0cmlidXRlZCBvbiBhbiAiQVMgSVMiIEJBU0lTLAovLyBXSVRIT1VUIFdBUlJBTlRJRVMgT1IgQ09ORElUSU9OUyBPRiBBTlkgS0lORCwgZWl0aGVyIGV4cHJlc3Mgb3IgaW1wbGllZC4KLy8gU2VlIHRoZSBMaWNlbnNlIGZvciB0aGUgc3BlY2lmaWMgbGFuZ3VhZ2UgZ292ZXJuaW5nIHBlcm1pc3Npb25zIGFuZAovLyBsaW1pdGF0aW9ucyB1bmRlciB0aGUgTGljZW5zZS4KCi8qKgogKiBAZmlsZW92ZXJ2aWV3IEhlbHBlcnMgZm9yIGdvb2dsZS5jb2xhYiBQeXRob24gbW9kdWxlLgogKi8KKGZ1bmN0aW9uKHNjb3BlKSB7CmZ1bmN0aW9uIHNwYW4odGV4dCwgc3R5bGVBdHRyaWJ1dGVzID0ge30pIHsKICBjb25zdCBlbGVtZW50ID0gZG9jdW1lbnQuY3JlYXRlRWxlbWVudCgnc3BhbicpOwogIGVsZW1lbnQudGV4dENvbnRlbnQgPSB0ZXh0OwogIGZvciAoY29uc3Qga2V5IG9mIE9iamVjdC5rZXlzKHN0eWxlQXR0cmlidXRlcykpIHsKICAgIGVsZW1lbnQuc3R5bGVba2V5XSA9IHN0eWxlQXR0cmlidXRlc1trZXldOwogIH0KICByZXR1cm4gZWxlbWVudDsKfQoKLy8gTWF4IG51bWJlciBvZiBieXRlcyB3aGljaCB3aWxsIGJlIHVwbG9hZGVkIGF0IGEgdGltZS4KY29uc3QgTUFYX1BBWUxPQURfU0laRSA9IDEwMCAqIDEwMjQ7CgpmdW5jdGlvbiBfdXBsb2FkRmlsZXMoaW5wdXRJZCwgb3V0cHV0SWQpIHsKICBjb25zdCBzdGVwcyA9IHVwbG9hZEZpbGVzU3RlcChpbnB1dElkLCBvdXRwdXRJZCk7CiAgY29uc3Qgb3V0cHV0RWxlbWVudCA9IGRvY3VtZW50LmdldEVsZW1lbnRCeUlkKG91dHB1dElkKTsKICAvLyBDYWNoZSBzdGVwcyBvbiB0aGUgb3V0cHV0RWxlbWVudCB0byBtYWtlIGl0IGF2YWlsYWJsZSBmb3IgdGhlIG5leHQgY2FsbAogIC8vIHRvIHVwbG9hZEZpbGVzQ29udGludWUgZnJvbSBQeXRob24uCiAgb3V0cHV0RWxlbWVudC5zdGVwcyA9IHN0ZXBzOwoKICByZXR1cm4gX3VwbG9hZEZpbGVzQ29udGludWUob3V0cHV0SWQpOwp9CgovLyBUaGlzIGlzIHJvdWdobHkgYW4gYXN5bmMgZ2VuZXJhdG9yIChub3Qgc3VwcG9ydGVkIGluIHRoZSBicm93c2VyIHlldCksCi8vIHdoZXJlIHRoZXJlIGFyZSBtdWx0aXBsZSBhc3luY2hyb25vdXMgc3RlcHMgYW5kIHRoZSBQeXRob24gc2lkZSBpcyBnb2luZwovLyB0byBwb2xsIGZvciBjb21wbGV0aW9uIG9mIGVhY2ggc3RlcC4KLy8gVGhpcyB1c2VzIGEgUHJvbWlzZSB0byBibG9jayB0aGUgcHl0aG9uIHNpZGUgb24gY29tcGxldGlvbiBvZiBlYWNoIHN0ZXAsCi8vIHRoZW4gcGFzc2VzIHRoZSByZXN1bHQgb2YgdGhlIHByZXZpb3VzIHN0ZXAgYXMgdGhlIGlucHV0IHRvIHRoZSBuZXh0IHN0ZXAuCmZ1bmN0aW9uIF91cGxvYWRGaWxlc0NvbnRpbnVlKG91dHB1dElkKSB7CiAgY29uc3Qgb3V0cHV0RWxlbWVudCA9IGRvY3VtZW50LmdldEVsZW1lbnRCeUlkKG91dHB1dElkKTsKICBjb25zdCBzdGVwcyA9IG91dHB1dEVsZW1lbnQuc3RlcHM7CgogIGNvbnN0IG5leHQgPSBzdGVwcy5uZXh0KG91dHB1dEVsZW1lbnQubGFzdFByb21pc2VWYWx1ZSk7CiAgcmV0dXJuIFByb21pc2UucmVzb2x2ZShuZXh0LnZhbHVlLnByb21pc2UpLnRoZW4oKHZhbHVlKSA9PiB7CiAgICAvLyBDYWNoZSB0aGUgbGFzdCBwcm9taXNlIHZhbHVlIHRvIG1ha2UgaXQgYXZhaWxhYmxlIHRvIHRoZSBuZXh0CiAgICAvLyBzdGVwIG9mIHRoZSBnZW5lcmF0b3IuCiAgICBvdXRwdXRFbGVtZW50Lmxhc3RQcm9taXNlVmFsdWUgPSB2YWx1ZTsKICAgIHJldHVybiBuZXh0LnZhbHVlLnJlc3BvbnNlOwogIH0pOwp9CgovKioKICogR2VuZXJhdG9yIGZ1bmN0aW9uIHdoaWNoIGlzIGNhbGxlZCBiZXR3ZWVuIGVhY2ggYXN5bmMgc3RlcCBvZiB0aGUgdXBsb2FkCiAqIHByb2Nlc3MuCiAqIEBwYXJhbSB7c3RyaW5nfSBpbnB1dElkIEVsZW1lbnQgSUQgb2YgdGhlIGlucHV0IGZpbGUgcGlja2VyIGVsZW1lbnQuCiAqIEBwYXJhbSB7c3RyaW5nfSBvdXRwdXRJZCBFbGVtZW50IElEIG9mIHRoZSBvdXRwdXQgZGlzcGxheS4KICogQHJldHVybiB7IUl0ZXJhYmxlPCFPYmplY3Q+fSBJdGVyYWJsZSBvZiBuZXh0IHN0ZXBzLgogKi8KZnVuY3Rpb24qIHVwbG9hZEZpbGVzU3RlcChpbnB1dElkLCBvdXRwdXRJZCkgewogIGNvbnN0IGlucHV0RWxlbWVudCA9IGRvY3VtZW50LmdldEVsZW1lbnRCeUlkKGlucHV0SWQpOwogIGlucHV0RWxlbWVudC5kaXNhYmxlZCA9IGZhbHNlOwoKICBjb25zdCBvdXRwdXRFbGVtZW50ID0gZG9jdW1lbnQuZ2V0RWxlbWVudEJ5SWQob3V0cHV0SWQpOwogIG91dHB1dEVsZW1lbnQuaW5uZXJIVE1MID0gJyc7CgogIGNvbnN0IHBpY2tlZFByb21pc2UgPSBuZXcgUHJvbWlzZSgocmVzb2x2ZSkgPT4gewogICAgaW5wdXRFbGVtZW50LmFkZEV2ZW50TGlzdGVuZXIoJ2NoYW5nZScsIChlKSA9PiB7CiAgICAgIHJlc29sdmUoZS50YXJnZXQuZmlsZXMpOwogICAgfSk7CiAgfSk7CgogIGNvbnN0IGNhbmNlbCA9IGRvY3VtZW50LmNyZWF0ZUVsZW1lbnQoJ2J1dHRvbicpOwogIGlucHV0RWxlbWVudC5wYXJlbnRFbGVtZW50LmFwcGVuZENoaWxkKGNhbmNlbCk7CiAgY2FuY2VsLnRleHRDb250ZW50ID0gJ0NhbmNlbCB1cGxvYWQnOwogIGNvbnN0IGNhbmNlbFByb21pc2UgPSBuZXcgUHJvbWlzZSgocmVzb2x2ZSkgPT4gewogICAgY2FuY2VsLm9uY2xpY2sgPSAoKSA9PiB7CiAgICAgIHJlc29sdmUobnVsbCk7CiAgICB9OwogIH0pOwoKICAvLyBXYWl0IGZvciB0aGUgdXNlciB0byBwaWNrIHRoZSBmaWxlcy4KICBjb25zdCBmaWxlcyA9IHlpZWxkIHsKICAgIHByb21pc2U6IFByb21pc2UucmFjZShbcGlja2VkUHJvbWlzZSwgY2FuY2VsUHJvbWlzZV0pLAogICAgcmVzcG9uc2U6IHsKICAgICAgYWN0aW9uOiAnc3RhcnRpbmcnLAogICAgfQogIH07CgogIGNhbmNlbC5yZW1vdmUoKTsKCiAgLy8gRGlzYWJsZSB0aGUgaW5wdXQgZWxlbWVudCBzaW5jZSBmdXJ0aGVyIHBpY2tzIGFyZSBub3QgYWxsb3dlZC4KICBpbnB1dEVsZW1lbnQuZGlzYWJsZWQgPSB0cnVlOwoKICBpZiAoIWZpbGVzKSB7CiAgICByZXR1cm4gewogICAgICByZXNwb25zZTogewogICAgICAgIGFjdGlvbjogJ2NvbXBsZXRlJywKICAgICAgfQogICAgfTsKICB9CgogIGZvciAoY29uc3QgZmlsZSBvZiBmaWxlcykgewogICAgY29uc3QgbGkgPSBkb2N1bWVudC5jcmVhdGVFbGVtZW50KCdsaScpOwogICAgbGkuYXBwZW5kKHNwYW4oZmlsZS5uYW1lLCB7Zm9udFdlaWdodDogJ2JvbGQnfSkpOwogICAgbGkuYXBwZW5kKHNwYW4oCiAgICAgICAgYCgke2ZpbGUudHlwZSB8fCAnbi9hJ30pIC0gJHtmaWxlLnNpemV9IGJ5dGVzLCBgICsKICAgICAgICBgbGFzdCBtb2RpZmllZDogJHsKICAgICAgICAgICAgZmlsZS5sYXN0TW9kaWZpZWREYXRlID8gZmlsZS5sYXN0TW9kaWZpZWREYXRlLnRvTG9jYWxlRGF0ZVN0cmluZygpIDoKICAgICAgICAgICAgICAgICAgICAgICAgICAgICAgICAgICAgJ24vYSd9IC0gYCkpOwogICAgY29uc3QgcGVyY2VudCA9IHNwYW4oJzAlIGRvbmUnKTsKICAgIGxpLmFwcGVuZENoaWxkKHBlcmNlbnQpOwoKICAgIG91dHB1dEVsZW1lbnQuYXBwZW5kQ2hpbGQobGkpOwoKICAgIGNvbnN0IGZpbGVEYXRhUHJvbWlzZSA9IG5ldyBQcm9taXNlKChyZXNvbHZlKSA9PiB7CiAgICAgIGNvbnN0IHJlYWRlciA9IG5ldyBGaWxlUmVhZGVyKCk7CiAgICAgIHJlYWRlci5vbmxvYWQgPSAoZSkgPT4gewogICAgICAgIHJlc29sdmUoZS50YXJnZXQucmVzdWx0KTsKICAgICAgfTsKICAgICAgcmVhZGVyLnJlYWRBc0FycmF5QnVmZmVyKGZpbGUpOwogICAgfSk7CiAgICAvLyBXYWl0IGZvciB0aGUgZGF0YSB0byBiZSByZWFkeS4KICAgIGxldCBmaWxlRGF0YSA9IHlpZWxkIHsKICAgICAgcHJvbWlzZTogZmlsZURhdGFQcm9taXNlLAogICAgICByZXNwb25zZTogewogICAgICAgIGFjdGlvbjogJ2NvbnRpbnVlJywKICAgICAgfQogICAgfTsKCiAgICAvLyBVc2UgYSBjaHVua2VkIHNlbmRpbmcgdG8gYXZvaWQgbWVzc2FnZSBzaXplIGxpbWl0cy4gU2VlIGIvNjIxMTU2NjAuCiAgICBsZXQgcG9zaXRpb24gPSAwOwogICAgd2hpbGUgKHBvc2l0aW9uIDwgZmlsZURhdGEuYnl0ZUxlbmd0aCkgewogICAgICBjb25zdCBsZW5ndGggPSBNYXRoLm1pbihmaWxlRGF0YS5ieXRlTGVuZ3RoIC0gcG9zaXRpb24sIE1BWF9QQVlMT0FEX1NJWkUpOwogICAgICBjb25zdCBjaHVuayA9IG5ldyBVaW50OEFycmF5KGZpbGVEYXRhLCBwb3NpdGlvbiwgbGVuZ3RoKTsKICAgICAgcG9zaXRpb24gKz0gbGVuZ3RoOwoKICAgICAgY29uc3QgYmFzZTY0ID0gYnRvYShTdHJpbmcuZnJvbUNoYXJDb2RlLmFwcGx5KG51bGwsIGNodW5rKSk7CiAgICAgIHlpZWxkIHsKICAgICAgICByZXNwb25zZTogewogICAgICAgICAgYWN0aW9uOiAnYXBwZW5kJywKICAgICAgICAgIGZpbGU6IGZpbGUubmFtZSwKICAgICAgICAgIGRhdGE6IGJhc2U2NCwKICAgICAgICB9LAogICAgICB9OwogICAgICBwZXJjZW50LnRleHRDb250ZW50ID0KICAgICAgICAgIGAke01hdGgucm91bmQoKHBvc2l0aW9uIC8gZmlsZURhdGEuYnl0ZUxlbmd0aCkgKiAxMDApfSUgZG9uZWA7CiAgICB9CiAgfQoKICAvLyBBbGwgZG9uZS4KICB5aWVsZCB7CiAgICByZXNwb25zZTogewogICAgICBhY3Rpb246ICdjb21wbGV0ZScsCiAgICB9CiAgfTsKfQoKc2NvcGUuZ29vZ2xlID0gc2NvcGUuZ29vZ2xlIHx8IHt9OwpzY29wZS5nb29nbGUuY29sYWIgPSBzY29wZS5nb29nbGUuY29sYWIgfHwge307CnNjb3BlLmdvb2dsZS5jb2xhYi5fZmlsZXMgPSB7CiAgX3VwbG9hZEZpbGVzLAogIF91cGxvYWRGaWxlc0NvbnRpbnVlLAp9Owp9KShzZWxmKTsK",
              "ok": true,
              "headers": [
                [
                  "content-type",
                  "application/javascript"
                ]
              ],
              "status": 200,
              "status_text": ""
            }
          },
          "base_uri": "https://localhost:8080/",
          "height": 72
        },
        "id": "Yz-aDjgmFYBD",
        "outputId": "02d2f1cf-9cda-4b66-e24b-a53b713c9007"
      },
      "source": [
        "from google.colab import files\r\n",
        "uploaded = files.upload()"
      ],
      "execution_count": 3,
      "outputs": [
        {
          "output_type": "display_data",
          "data": {
            "text/html": [
              "\n",
              "     <input type=\"file\" id=\"files-fc5e0409-f48a-476a-96e4-ecfed5336784\" name=\"files[]\" multiple disabled\n",
              "        style=\"border:none\" />\n",
              "     <output id=\"result-fc5e0409-f48a-476a-96e4-ecfed5336784\">\n",
              "      Upload widget is only available when the cell has been executed in the\n",
              "      current browser session. Please rerun this cell to enable.\n",
              "      </output>\n",
              "      <script src=\"/nbextensions/google.colab/files.js\"></script> "
            ],
            "text/plain": [
              "<IPython.core.display.HTML object>"
            ]
          },
          "metadata": {
            "tags": []
          }
        },
        {
          "output_type": "stream",
          "text": [
            "Saving mushrooms.csv to mushrooms.csv\n"
          ],
          "name": "stdout"
        }
      ]
    },
    {
      "cell_type": "markdown",
      "metadata": {
        "id": "NcEHma-sNyj1"
      },
      "source": [
        "Importing libraries:"
      ]
    },
    {
      "cell_type": "code",
      "metadata": {
        "id": "UQiqnIMIFxrk"
      },
      "source": [
        "import numpy as np\r\n",
        "import pandas as pd\r\n",
        "import sklearn\r\n",
        "from sklearn.preprocessing import LabelEncoder\r\n",
        "import matplotlib.pyplot as plt\r\n",
        "from sklearn.model_selection import train_test_split\r\n",
        "label = LabelEncoder()"
      ],
      "execution_count": 53,
      "outputs": []
    },
    {
      "cell_type": "markdown",
      "metadata": {
        "id": "s6XDG9cTN2c5"
      },
      "source": [
        "Preprocessing of data into necessary format:"
      ]
    },
    {
      "cell_type": "code",
      "metadata": {
        "id": "ISN8SVueF0zt"
      },
      "source": [
        "data = pd.read_csv(\"mushrooms.csv\")"
      ],
      "execution_count": 54,
      "outputs": []
    },
    {
      "cell_type": "code",
      "metadata": {
        "colab": {
          "base_uri": "https://localhost:8080/"
        },
        "id": "ep_wKU1cF3FI",
        "outputId": "f5dc51fe-7f4d-4c29-812c-53694dc850c7"
      },
      "source": [
        "data.shape"
      ],
      "execution_count": 36,
      "outputs": [
        {
          "output_type": "execute_result",
          "data": {
            "text/plain": [
              "(8124, 23)"
            ]
          },
          "metadata": {
            "tags": []
          },
          "execution_count": 36
        }
      ]
    },
    {
      "cell_type": "code",
      "metadata": {
        "colab": {
          "base_uri": "https://localhost:8080/",
          "height": 275
        },
        "id": "bzq11UP4F6EK",
        "outputId": "976d91fb-7097-4212-94a5-187163988589"
      },
      "source": [
        "data.head()"
      ],
      "execution_count": 55,
      "outputs": [
        {
          "output_type": "execute_result",
          "data": {
            "text/html": [
              "<div>\n",
              "<style scoped>\n",
              "    .dataframe tbody tr th:only-of-type {\n",
              "        vertical-align: middle;\n",
              "    }\n",
              "\n",
              "    .dataframe tbody tr th {\n",
              "        vertical-align: top;\n",
              "    }\n",
              "\n",
              "    .dataframe thead th {\n",
              "        text-align: right;\n",
              "    }\n",
              "</style>\n",
              "<table border=\"1\" class=\"dataframe\">\n",
              "  <thead>\n",
              "    <tr style=\"text-align: right;\">\n",
              "      <th></th>\n",
              "      <th>class</th>\n",
              "      <th>cap-shape</th>\n",
              "      <th>cap-surface</th>\n",
              "      <th>cap-color</th>\n",
              "      <th>bruises</th>\n",
              "      <th>odor</th>\n",
              "      <th>gill-attachment</th>\n",
              "      <th>gill-spacing</th>\n",
              "      <th>gill-size</th>\n",
              "      <th>gill-color</th>\n",
              "      <th>stalk-shape</th>\n",
              "      <th>stalk-root</th>\n",
              "      <th>stalk-surface-above-ring</th>\n",
              "      <th>stalk-surface-below-ring</th>\n",
              "      <th>stalk-color-above-ring</th>\n",
              "      <th>stalk-color-below-ring</th>\n",
              "      <th>veil-type</th>\n",
              "      <th>veil-color</th>\n",
              "      <th>ring-number</th>\n",
              "      <th>ring-type</th>\n",
              "      <th>spore-print-color</th>\n",
              "      <th>population</th>\n",
              "      <th>habitat</th>\n",
              "    </tr>\n",
              "  </thead>\n",
              "  <tbody>\n",
              "    <tr>\n",
              "      <th>0</th>\n",
              "      <td>p</td>\n",
              "      <td>x</td>\n",
              "      <td>s</td>\n",
              "      <td>n</td>\n",
              "      <td>t</td>\n",
              "      <td>p</td>\n",
              "      <td>f</td>\n",
              "      <td>c</td>\n",
              "      <td>n</td>\n",
              "      <td>k</td>\n",
              "      <td>e</td>\n",
              "      <td>e</td>\n",
              "      <td>s</td>\n",
              "      <td>s</td>\n",
              "      <td>w</td>\n",
              "      <td>w</td>\n",
              "      <td>p</td>\n",
              "      <td>w</td>\n",
              "      <td>o</td>\n",
              "      <td>p</td>\n",
              "      <td>k</td>\n",
              "      <td>s</td>\n",
              "      <td>u</td>\n",
              "    </tr>\n",
              "    <tr>\n",
              "      <th>1</th>\n",
              "      <td>e</td>\n",
              "      <td>x</td>\n",
              "      <td>s</td>\n",
              "      <td>y</td>\n",
              "      <td>t</td>\n",
              "      <td>a</td>\n",
              "      <td>f</td>\n",
              "      <td>c</td>\n",
              "      <td>b</td>\n",
              "      <td>k</td>\n",
              "      <td>e</td>\n",
              "      <td>c</td>\n",
              "      <td>s</td>\n",
              "      <td>s</td>\n",
              "      <td>w</td>\n",
              "      <td>w</td>\n",
              "      <td>p</td>\n",
              "      <td>w</td>\n",
              "      <td>o</td>\n",
              "      <td>p</td>\n",
              "      <td>n</td>\n",
              "      <td>n</td>\n",
              "      <td>g</td>\n",
              "    </tr>\n",
              "    <tr>\n",
              "      <th>2</th>\n",
              "      <td>e</td>\n",
              "      <td>b</td>\n",
              "      <td>s</td>\n",
              "      <td>w</td>\n",
              "      <td>t</td>\n",
              "      <td>l</td>\n",
              "      <td>f</td>\n",
              "      <td>c</td>\n",
              "      <td>b</td>\n",
              "      <td>n</td>\n",
              "      <td>e</td>\n",
              "      <td>c</td>\n",
              "      <td>s</td>\n",
              "      <td>s</td>\n",
              "      <td>w</td>\n",
              "      <td>w</td>\n",
              "      <td>p</td>\n",
              "      <td>w</td>\n",
              "      <td>o</td>\n",
              "      <td>p</td>\n",
              "      <td>n</td>\n",
              "      <td>n</td>\n",
              "      <td>m</td>\n",
              "    </tr>\n",
              "    <tr>\n",
              "      <th>3</th>\n",
              "      <td>p</td>\n",
              "      <td>x</td>\n",
              "      <td>y</td>\n",
              "      <td>w</td>\n",
              "      <td>t</td>\n",
              "      <td>p</td>\n",
              "      <td>f</td>\n",
              "      <td>c</td>\n",
              "      <td>n</td>\n",
              "      <td>n</td>\n",
              "      <td>e</td>\n",
              "      <td>e</td>\n",
              "      <td>s</td>\n",
              "      <td>s</td>\n",
              "      <td>w</td>\n",
              "      <td>w</td>\n",
              "      <td>p</td>\n",
              "      <td>w</td>\n",
              "      <td>o</td>\n",
              "      <td>p</td>\n",
              "      <td>k</td>\n",
              "      <td>s</td>\n",
              "      <td>u</td>\n",
              "    </tr>\n",
              "    <tr>\n",
              "      <th>4</th>\n",
              "      <td>e</td>\n",
              "      <td>x</td>\n",
              "      <td>s</td>\n",
              "      <td>g</td>\n",
              "      <td>f</td>\n",
              "      <td>n</td>\n",
              "      <td>f</td>\n",
              "      <td>w</td>\n",
              "      <td>b</td>\n",
              "      <td>k</td>\n",
              "      <td>t</td>\n",
              "      <td>e</td>\n",
              "      <td>s</td>\n",
              "      <td>s</td>\n",
              "      <td>w</td>\n",
              "      <td>w</td>\n",
              "      <td>p</td>\n",
              "      <td>w</td>\n",
              "      <td>o</td>\n",
              "      <td>e</td>\n",
              "      <td>n</td>\n",
              "      <td>a</td>\n",
              "      <td>g</td>\n",
              "    </tr>\n",
              "  </tbody>\n",
              "</table>\n",
              "</div>"
            ],
            "text/plain": [
              "  class cap-shape cap-surface  ... spore-print-color population habitat\n",
              "0     p         x           s  ...                 k          s       u\n",
              "1     e         x           s  ...                 n          n       g\n",
              "2     e         b           s  ...                 n          n       m\n",
              "3     p         x           y  ...                 k          s       u\n",
              "4     e         x           s  ...                 n          a       g\n",
              "\n",
              "[5 rows x 23 columns]"
            ]
          },
          "metadata": {
            "tags": []
          },
          "execution_count": 55
        }
      ]
    },
    {
      "cell_type": "markdown",
      "metadata": {
        "id": "4q7r5wrOOT58"
      },
      "source": [
        "**Converting the labelled data into numerical using LabelEncoder of ScikitLearn**"
      ]
    },
    {
      "cell_type": "code",
      "metadata": {
        "colab": {
          "base_uri": "https://localhost:8080/",
          "height": 275
        },
        "id": "GJKeFBtWF7me",
        "outputId": "11f3d3db-a7b6-4aab-ce57-d0a93a9468f0"
      },
      "source": [
        "for col in data.columns:\r\n",
        "    data[col]=label.fit_transform(data[col])    \r\n",
        "\r\n",
        "data.head()"
      ],
      "execution_count": 56,
      "outputs": [
        {
          "output_type": "execute_result",
          "data": {
            "text/html": [
              "<div>\n",
              "<style scoped>\n",
              "    .dataframe tbody tr th:only-of-type {\n",
              "        vertical-align: middle;\n",
              "    }\n",
              "\n",
              "    .dataframe tbody tr th {\n",
              "        vertical-align: top;\n",
              "    }\n",
              "\n",
              "    .dataframe thead th {\n",
              "        text-align: right;\n",
              "    }\n",
              "</style>\n",
              "<table border=\"1\" class=\"dataframe\">\n",
              "  <thead>\n",
              "    <tr style=\"text-align: right;\">\n",
              "      <th></th>\n",
              "      <th>class</th>\n",
              "      <th>cap-shape</th>\n",
              "      <th>cap-surface</th>\n",
              "      <th>cap-color</th>\n",
              "      <th>bruises</th>\n",
              "      <th>odor</th>\n",
              "      <th>gill-attachment</th>\n",
              "      <th>gill-spacing</th>\n",
              "      <th>gill-size</th>\n",
              "      <th>gill-color</th>\n",
              "      <th>stalk-shape</th>\n",
              "      <th>stalk-root</th>\n",
              "      <th>stalk-surface-above-ring</th>\n",
              "      <th>stalk-surface-below-ring</th>\n",
              "      <th>stalk-color-above-ring</th>\n",
              "      <th>stalk-color-below-ring</th>\n",
              "      <th>veil-type</th>\n",
              "      <th>veil-color</th>\n",
              "      <th>ring-number</th>\n",
              "      <th>ring-type</th>\n",
              "      <th>spore-print-color</th>\n",
              "      <th>population</th>\n",
              "      <th>habitat</th>\n",
              "    </tr>\n",
              "  </thead>\n",
              "  <tbody>\n",
              "    <tr>\n",
              "      <th>0</th>\n",
              "      <td>1</td>\n",
              "      <td>5</td>\n",
              "      <td>2</td>\n",
              "      <td>4</td>\n",
              "      <td>1</td>\n",
              "      <td>6</td>\n",
              "      <td>1</td>\n",
              "      <td>0</td>\n",
              "      <td>1</td>\n",
              "      <td>4</td>\n",
              "      <td>0</td>\n",
              "      <td>3</td>\n",
              "      <td>2</td>\n",
              "      <td>2</td>\n",
              "      <td>7</td>\n",
              "      <td>7</td>\n",
              "      <td>0</td>\n",
              "      <td>2</td>\n",
              "      <td>1</td>\n",
              "      <td>4</td>\n",
              "      <td>2</td>\n",
              "      <td>3</td>\n",
              "      <td>5</td>\n",
              "    </tr>\n",
              "    <tr>\n",
              "      <th>1</th>\n",
              "      <td>0</td>\n",
              "      <td>5</td>\n",
              "      <td>2</td>\n",
              "      <td>9</td>\n",
              "      <td>1</td>\n",
              "      <td>0</td>\n",
              "      <td>1</td>\n",
              "      <td>0</td>\n",
              "      <td>0</td>\n",
              "      <td>4</td>\n",
              "      <td>0</td>\n",
              "      <td>2</td>\n",
              "      <td>2</td>\n",
              "      <td>2</td>\n",
              "      <td>7</td>\n",
              "      <td>7</td>\n",
              "      <td>0</td>\n",
              "      <td>2</td>\n",
              "      <td>1</td>\n",
              "      <td>4</td>\n",
              "      <td>3</td>\n",
              "      <td>2</td>\n",
              "      <td>1</td>\n",
              "    </tr>\n",
              "    <tr>\n",
              "      <th>2</th>\n",
              "      <td>0</td>\n",
              "      <td>0</td>\n",
              "      <td>2</td>\n",
              "      <td>8</td>\n",
              "      <td>1</td>\n",
              "      <td>3</td>\n",
              "      <td>1</td>\n",
              "      <td>0</td>\n",
              "      <td>0</td>\n",
              "      <td>5</td>\n",
              "      <td>0</td>\n",
              "      <td>2</td>\n",
              "      <td>2</td>\n",
              "      <td>2</td>\n",
              "      <td>7</td>\n",
              "      <td>7</td>\n",
              "      <td>0</td>\n",
              "      <td>2</td>\n",
              "      <td>1</td>\n",
              "      <td>4</td>\n",
              "      <td>3</td>\n",
              "      <td>2</td>\n",
              "      <td>3</td>\n",
              "    </tr>\n",
              "    <tr>\n",
              "      <th>3</th>\n",
              "      <td>1</td>\n",
              "      <td>5</td>\n",
              "      <td>3</td>\n",
              "      <td>8</td>\n",
              "      <td>1</td>\n",
              "      <td>6</td>\n",
              "      <td>1</td>\n",
              "      <td>0</td>\n",
              "      <td>1</td>\n",
              "      <td>5</td>\n",
              "      <td>0</td>\n",
              "      <td>3</td>\n",
              "      <td>2</td>\n",
              "      <td>2</td>\n",
              "      <td>7</td>\n",
              "      <td>7</td>\n",
              "      <td>0</td>\n",
              "      <td>2</td>\n",
              "      <td>1</td>\n",
              "      <td>4</td>\n",
              "      <td>2</td>\n",
              "      <td>3</td>\n",
              "      <td>5</td>\n",
              "    </tr>\n",
              "    <tr>\n",
              "      <th>4</th>\n",
              "      <td>0</td>\n",
              "      <td>5</td>\n",
              "      <td>2</td>\n",
              "      <td>3</td>\n",
              "      <td>0</td>\n",
              "      <td>5</td>\n",
              "      <td>1</td>\n",
              "      <td>1</td>\n",
              "      <td>0</td>\n",
              "      <td>4</td>\n",
              "      <td>1</td>\n",
              "      <td>3</td>\n",
              "      <td>2</td>\n",
              "      <td>2</td>\n",
              "      <td>7</td>\n",
              "      <td>7</td>\n",
              "      <td>0</td>\n",
              "      <td>2</td>\n",
              "      <td>1</td>\n",
              "      <td>0</td>\n",
              "      <td>3</td>\n",
              "      <td>0</td>\n",
              "      <td>1</td>\n",
              "    </tr>\n",
              "  </tbody>\n",
              "</table>\n",
              "</div>"
            ],
            "text/plain": [
              "   class  cap-shape  cap-surface  ...  spore-print-color  population  habitat\n",
              "0      1          5            2  ...                  2           3        5\n",
              "1      0          5            2  ...                  3           2        1\n",
              "2      0          0            2  ...                  3           2        3\n",
              "3      1          5            3  ...                  2           3        5\n",
              "4      0          5            2  ...                  3           0        1\n",
              "\n",
              "[5 rows x 23 columns]"
            ]
          },
          "metadata": {
            "tags": []
          },
          "execution_count": 56
        }
      ]
    },
    {
      "cell_type": "code",
      "metadata": {
        "id": "xIePUMM6F-T_"
      },
      "source": [
        "df.to_csv('mushroom_converted.csv')"
      ],
      "execution_count": 50,
      "outputs": []
    },
    {
      "cell_type": "markdown",
      "metadata": {
        "id": "uTrpGLulN-cN"
      },
      "source": [
        "**Splitting input and output data into seperate arrays:**"
      ]
    },
    {
      "cell_type": "code",
      "metadata": {
        "colab": {
          "base_uri": "https://localhost:8080/"
        },
        "id": "NyoXy04ONGcD",
        "outputId": "bdb31c2b-d6c4-4f44-806c-24d9a2e46515"
      },
      "source": [
        "data = np.genfromtxt('mushrooms_converted.csv', delimiter = ',')\r\n",
        "X = data[:,1:23]\r\n",
        "y = data[:, 0]\r\n",
        "print(X)\r\n",
        "print(y)"
      ],
      "execution_count": 51,
      "outputs": [
        {
          "output_type": "stream",
          "text": [
            "[[5. 2. 4. ... 2. 3. 5.]\n",
            " [5. 2. 9. ... 3. 2. 1.]\n",
            " [0. 2. 8. ... 3. 2. 3.]\n",
            " ...\n",
            " [2. 2. 4. ... 0. 1. 2.]\n",
            " [3. 3. 4. ... 7. 4. 2.]\n",
            " [5. 2. 4. ... 4. 1. 2.]]\n",
            "[1. 0. 0. ... 0. 1. 0.]\n"
          ],
          "name": "stdout"
        }
      ]
    },
    {
      "cell_type": "markdown",
      "metadata": {
        "id": "2u-kFSomO7J1"
      },
      "source": [
        "**Splitting the data into test and train datasets randomly using train_test_split library**"
      ]
    },
    {
      "cell_type": "code",
      "metadata": {
        "colab": {
          "base_uri": "https://localhost:8080/"
        },
        "id": "lroIyLxgOfZe",
        "outputId": "c0dfb80c-9b47-41fb-dd43-dda36b201870"
      },
      "source": [
        "X_train, X_test, y_train, y_test = train_test_split(X, y, test_size=0.2, random_state=42)\r\n",
        "X_train = X_train.T\r\n",
        "y_train = y_train.reshape(1, y_train.shape[0])\r\n",
        "X_test = X_test.T\r\n",
        "y_test = y_test.reshape(1, y_test.shape[0])\r\n",
        "print ('Train X size is ', X_train.shape)\r\n",
        "print ('Train Y size is ', y_train.shape)\r\n",
        "print ('\\nTest Dataset size is ', X_test.shape)"
      ],
      "execution_count": 57,
      "outputs": [
        {
          "output_type": "stream",
          "text": [
            "Train X size is  (22, 6499)\n",
            "Train Y size is  (1, 6499)\n",
            "\n",
            "Test Dataset size is  (22, 1625)\n"
          ],
          "name": "stdout"
        }
      ]
    },
    {
      "cell_type": "markdown",
      "metadata": {
        "id": "2xjQGFZYQStf"
      },
      "source": [
        "**Defining the neural network structure (Number of nodes in input and hidden layer)**"
      ]
    },
    {
      "cell_type": "code",
      "metadata": {
        "id": "k_8t65u-Pi3S"
      },
      "source": [
        "def neural_network(X, Y):\r\n",
        "    input_unit = X.shape[0]\r\n",
        "    hidden_unit = 22\r\n",
        "    output_unit = Y.shape[0]\r\n",
        "    return (input_unit, hidden_unit, output_unit)"
      ],
      "execution_count": 58,
      "outputs": []
    },
    {
      "cell_type": "code",
      "metadata": {
        "colab": {
          "base_uri": "https://localhost:8080/"
        },
        "id": "ZEur2VQpQPBI",
        "outputId": "88f0bcb1-727c-4c81-c82b-98590631310d"
      },
      "source": [
        "(input_unit, hidden_unit, output_unit) = neural_network(X_train, y_train)\r\n",
        "print(\"There are \"+ str(input_unit)+\" input layers and \"+str(hidden_unit)+\" hidden layers\")"
      ],
      "execution_count": 59,
      "outputs": [
        {
          "output_type": "stream",
          "text": [
            "There are 22 input layers and 22 hidden layers\n"
          ],
          "name": "stdout"
        }
      ]
    },
    {
      "cell_type": "markdown",
      "metadata": {
        "id": "nhvc4FJRQoGf"
      },
      "source": [
        "**Allotting random weights and zero bias initially**"
      ]
    },
    {
      "cell_type": "code",
      "metadata": {
        "id": "GqUCFHNaQcZb"
      },
      "source": [
        "def random_weights(input_unit, hidden_unit, output_unit):\r\n",
        "    np.random.seed(2) \r\n",
        "    W1 = np.random.randn(hidden_unit, input_unit)*0.01\r\n",
        "    b1 = np.zeros((hidden_unit, 1))\r\n",
        "    W2 = np.random.randn(output_unit, hidden_unit)*0.01\r\n",
        "    b2 = np.zeros((output_unit, 1))\r\n",
        "    weights = {\"W1\": W1, \"b1\": b1, \"W2\": W2, \"b2\": b2}\r\n",
        "    return weights"
      ],
      "execution_count": 60,
      "outputs": []
    },
    {
      "cell_type": "markdown",
      "metadata": {
        "id": "543Sx-PNRiOc"
      },
      "source": [
        "**Function to perform Sigmoid function**"
      ]
    },
    {
      "cell_type": "code",
      "metadata": {
        "id": "gxQm6NejRb9w"
      },
      "source": [
        "def sigmoid(z):\r\n",
        "    return 1/(1+np.exp(-z))"
      ],
      "execution_count": 61,
      "outputs": []
    },
    {
      "cell_type": "markdown",
      "metadata": {
        "id": "GebkSciSRomQ"
      },
      "source": [
        "**Forward Propagation**"
      ]
    },
    {
      "cell_type": "code",
      "metadata": {
        "id": "83JL2MxWRx8F"
      },
      "source": [
        "def forward_propagation(X, weights):\r\n",
        "    W1 = weights['W1']\r\n",
        "    b1 = weights['b1']\r\n",
        "    W2 = weights['W2']\r\n",
        "    b2 = weights['b2']\r\n",
        "    Z1 = np.dot(W1, X) + b1\r\n",
        "    Activation_one = np.tanh(Z1)\r\n",
        "    #Activation_one = sigmoid(Z1) (Sigmoid had less accuracy so used tanh activation)\r\n",
        "    Z2 = np.dot(W2, Activation_one) + b2\r\n",
        "    Activation_two = sigmoid(Z2)\r\n",
        "    cache = {\"Z1\": Z1,\"Activation1\": Activation_one,\"Z2\": Z2,\"Activation2\": Activation_two}\r\n",
        "    return Activation_two, cache"
      ],
      "execution_count": 75,
      "outputs": []
    },
    {
      "cell_type": "markdown",
      "metadata": {
        "id": "p_biTYbVTVry"
      },
      "source": [
        "**Calculating cost**"
      ]
    },
    {
      "cell_type": "code",
      "metadata": {
        "id": "gqASpM_WTYzA"
      },
      "source": [
        "def cost_function(Activation_two, Y):\r\n",
        "    m = Y.shape[1] \r\n",
        "    logprobs = np.multiply(np.log(Activation_two), Y) + np.multiply((1-Y), np.log(1 - Activation_two))\r\n",
        "    cost = - np.sum(logprobs) / m\r\n",
        "    cost = float(np.squeeze(cost))                              \r\n",
        "    return cost"
      ],
      "execution_count": 88,
      "outputs": []
    },
    {
      "cell_type": "markdown",
      "metadata": {
        "id": "UrrzI9eJUXox"
      },
      "source": [
        "**Propagating Backwards**"
      ]
    },
    {
      "cell_type": "code",
      "metadata": {
        "id": "ulhzfk3WUaT2"
      },
      "source": [
        "def backward_propagation(weights, cache, X, Y):\r\n",
        "    #number of training example\r\n",
        "    m = X.shape[1]\r\n",
        "    \r\n",
        "    W1 = weights['W1']\r\n",
        "    W2 = weights['W2']\r\n",
        "    Activation_one = cache['Activation1']\r\n",
        "    Activation_two = cache['Activation2']\r\n",
        "   \r\n",
        "    dZ2 = Activation_two-Y\r\n",
        "    dW2 = (1/m) * np.dot(dZ2, Activation_one.T)\r\n",
        "    db2 = (1/m) * np.sum(dZ2, axis=1, keepdims=True)\r\n",
        "    dZ1 = np.multiply(np.dot(W2.T, dZ2), 1 - np.power(Activation_one, 2))\r\n",
        "    dW1 = (1/m) * np.dot(dZ1, X.T) \r\n",
        "    db1 = (1/m)*np.sum(dZ1, axis=1, keepdims=True)\r\n",
        "    \r\n",
        "    grads = {\"dW1\": dW1, \"db1\": db1, \"dW2\": dW2,\"db2\": db2}\r\n",
        "    \r\n",
        "    return grads"
      ],
      "execution_count": 66,
      "outputs": []
    },
    {
      "cell_type": "markdown",
      "metadata": {
        "id": "k3ZGYE3bcne1"
      },
      "source": [
        "**Gradient Descent (Updating weights) and setting learning rate**"
      ]
    },
    {
      "cell_type": "code",
      "metadata": {
        "id": "51RqJhUJVcSP"
      },
      "source": [
        "def gradient_descent(weights, grads, learning_rate = 0.01):\r\n",
        "    W1 = weights['W1']\r\n",
        "    b1 = weights['b1']\r\n",
        "    W2 = weights['W2']\r\n",
        "    b2 = weights['b2']\r\n",
        "   \r\n",
        "    dW1 = grads['dW1']\r\n",
        "    db1 = grads['db1']\r\n",
        "    dW2 = grads['dW2']\r\n",
        "    db2 = grads['db2']\r\n",
        "\r\n",
        "    W1 = W1 - learning_rate * dW1\r\n",
        "    b1 = b1 - learning_rate * db1\r\n",
        "    W2 = W2 - learning_rate * dW2\r\n",
        "    b2 = b2 - learning_rate * db2\r\n",
        "    \r\n",
        "    updated_weights = {\"W1\": W1, \"b1\": b1,\"W2\": W2,\"b2\": b2}\r\n",
        "    \r\n",
        "    return updated_weights"
      ],
      "execution_count": 68,
      "outputs": []
    },
    {
      "cell_type": "markdown",
      "metadata": {
        "id": "G_K0xQpKcvXm"
      },
      "source": [
        "**Model program for testing dataset**"
      ]
    },
    {
      "cell_type": "code",
      "metadata": {
        "id": "XRyBiGmjVqgX"
      },
      "source": [
        "def neural_network_model(X, Y, hidden_unit, num_iterations = 1000):\r\n",
        "    np.random.seed(3)\r\n",
        "    input_unit = neural_network(X, Y)[0]\r\n",
        "    output_unit = neural_network(X, Y)[2]\r\n",
        "    \r\n",
        "    weights = random_weights(input_unit, hidden_unit, output_unit)\r\n",
        "   \r\n",
        "    W1 = weights['W1']\r\n",
        "    b1 = weights['b1']\r\n",
        "    W2 = weights['W2']\r\n",
        "    b2 = weights['b2']\r\n",
        "    \r\n",
        "    for i in range(0, num_iterations):\r\n",
        "        A2, cache = forward_propagation(X, weights)\r\n",
        "        cost = cost_function(A2, Y)\r\n",
        "        grads = backward_propagation(weights, cache, X, Y)\r\n",
        "        weights = gradient_descent(weights, grads)\r\n",
        "        if i % 5 == 0:\r\n",
        "            print (\"Cost after iteration %i: %f\" %(i, cost))\r\n",
        "    return weights"
      ],
      "execution_count": 93,
      "outputs": []
    },
    {
      "cell_type": "markdown",
      "metadata": {
        "id": "svXqJxIjc2H1"
      },
      "source": [
        "**Cost reduces after each iteration of training**"
      ]
    },
    {
      "cell_type": "code",
      "metadata": {
        "colab": {
          "base_uri": "https://localhost:8080/"
        },
        "id": "8-uopXIBWnBN",
        "outputId": "afccfbd6-48ca-4d24-e117-291d44d4bf21"
      },
      "source": [
        "final_weights = neural_network_model(X_train, y_train, 4, num_iterations=1000)"
      ],
      "execution_count": 94,
      "outputs": [
        {
          "output_type": "stream",
          "text": [
            "Cost after iteration 0: 0.693059\n",
            "Cost after iteration 5: 0.693005\n",
            "Cost after iteration 10: 0.692950\n",
            "Cost after iteration 15: 0.692893\n",
            "Cost after iteration 20: 0.692835\n",
            "Cost after iteration 25: 0.692774\n",
            "Cost after iteration 30: 0.692710\n",
            "Cost after iteration 35: 0.692642\n",
            "Cost after iteration 40: 0.692571\n",
            "Cost after iteration 45: 0.692494\n",
            "Cost after iteration 50: 0.692412\n",
            "Cost after iteration 55: 0.692323\n",
            "Cost after iteration 60: 0.692228\n",
            "Cost after iteration 65: 0.692125\n",
            "Cost after iteration 70: 0.692013\n",
            "Cost after iteration 75: 0.691892\n",
            "Cost after iteration 80: 0.691760\n",
            "Cost after iteration 85: 0.691618\n",
            "Cost after iteration 90: 0.691462\n",
            "Cost after iteration 95: 0.691293\n",
            "Cost after iteration 100: 0.691109\n",
            "Cost after iteration 105: 0.690909\n",
            "Cost after iteration 110: 0.690691\n",
            "Cost after iteration 115: 0.690454\n",
            "Cost after iteration 120: 0.690196\n",
            "Cost after iteration 125: 0.689914\n",
            "Cost after iteration 130: 0.689608\n",
            "Cost after iteration 135: 0.689274\n",
            "Cost after iteration 140: 0.688910\n",
            "Cost after iteration 145: 0.688514\n",
            "Cost after iteration 150: 0.688081\n",
            "Cost after iteration 155: 0.687609\n",
            "Cost after iteration 160: 0.687095\n",
            "Cost after iteration 165: 0.686535\n",
            "Cost after iteration 170: 0.685924\n",
            "Cost after iteration 175: 0.685259\n",
            "Cost after iteration 180: 0.684536\n",
            "Cost after iteration 185: 0.683752\n",
            "Cost after iteration 190: 0.682902\n",
            "Cost after iteration 195: 0.681983\n",
            "Cost after iteration 200: 0.680992\n",
            "Cost after iteration 205: 0.679926\n",
            "Cost after iteration 210: 0.678784\n",
            "Cost after iteration 215: 0.677563\n",
            "Cost after iteration 220: 0.676262\n",
            "Cost after iteration 225: 0.674880\n",
            "Cost after iteration 230: 0.673417\n",
            "Cost after iteration 235: 0.671871\n",
            "Cost after iteration 240: 0.670244\n",
            "Cost after iteration 245: 0.668536\n",
            "Cost after iteration 250: 0.666747\n",
            "Cost after iteration 255: 0.664878\n",
            "Cost after iteration 260: 0.662931\n",
            "Cost after iteration 265: 0.660908\n",
            "Cost after iteration 270: 0.658810\n",
            "Cost after iteration 275: 0.656639\n",
            "Cost after iteration 280: 0.654398\n",
            "Cost after iteration 285: 0.652090\n",
            "Cost after iteration 290: 0.649716\n",
            "Cost after iteration 295: 0.647282\n",
            "Cost after iteration 300: 0.644788\n",
            "Cost after iteration 305: 0.642239\n",
            "Cost after iteration 310: 0.639637\n",
            "Cost after iteration 315: 0.636986\n",
            "Cost after iteration 320: 0.634288\n",
            "Cost after iteration 325: 0.631547\n",
            "Cost after iteration 330: 0.628766\n",
            "Cost after iteration 335: 0.625948\n",
            "Cost after iteration 340: 0.623095\n",
            "Cost after iteration 345: 0.620211\n",
            "Cost after iteration 350: 0.617297\n",
            "Cost after iteration 355: 0.614357\n",
            "Cost after iteration 360: 0.611394\n",
            "Cost after iteration 365: 0.608409\n",
            "Cost after iteration 370: 0.605405\n",
            "Cost after iteration 375: 0.602385\n",
            "Cost after iteration 380: 0.599351\n",
            "Cost after iteration 385: 0.596305\n",
            "Cost after iteration 390: 0.593249\n",
            "Cost after iteration 395: 0.590186\n",
            "Cost after iteration 400: 0.587117\n",
            "Cost after iteration 405: 0.584046\n",
            "Cost after iteration 410: 0.580973\n",
            "Cost after iteration 415: 0.577901\n",
            "Cost after iteration 420: 0.574832\n",
            "Cost after iteration 425: 0.571768\n",
            "Cost after iteration 430: 0.568710\n",
            "Cost after iteration 435: 0.565661\n",
            "Cost after iteration 440: 0.562621\n",
            "Cost after iteration 445: 0.559594\n",
            "Cost after iteration 450: 0.556579\n",
            "Cost after iteration 455: 0.553580\n",
            "Cost after iteration 460: 0.550597\n",
            "Cost after iteration 465: 0.547631\n",
            "Cost after iteration 470: 0.544684\n",
            "Cost after iteration 475: 0.541758\n",
            "Cost after iteration 480: 0.538852\n",
            "Cost after iteration 485: 0.535969\n",
            "Cost after iteration 490: 0.533110\n",
            "Cost after iteration 495: 0.530274\n",
            "Cost after iteration 500: 0.527464\n",
            "Cost after iteration 505: 0.524680\n",
            "Cost after iteration 510: 0.521922\n",
            "Cost after iteration 515: 0.519192\n",
            "Cost after iteration 520: 0.516490\n",
            "Cost after iteration 525: 0.513816\n",
            "Cost after iteration 530: 0.511172\n",
            "Cost after iteration 535: 0.508556\n",
            "Cost after iteration 540: 0.505971\n",
            "Cost after iteration 545: 0.503415\n",
            "Cost after iteration 550: 0.500890\n",
            "Cost after iteration 555: 0.498395\n",
            "Cost after iteration 560: 0.495931\n",
            "Cost after iteration 565: 0.493498\n",
            "Cost after iteration 570: 0.491095\n",
            "Cost after iteration 575: 0.488723\n",
            "Cost after iteration 580: 0.486382\n",
            "Cost after iteration 585: 0.484072\n",
            "Cost after iteration 590: 0.481792\n",
            "Cost after iteration 595: 0.479542\n",
            "Cost after iteration 600: 0.477323\n",
            "Cost after iteration 605: 0.475134\n",
            "Cost after iteration 610: 0.472974\n",
            "Cost after iteration 615: 0.470844\n",
            "Cost after iteration 620: 0.468744\n",
            "Cost after iteration 625: 0.466672\n",
            "Cost after iteration 630: 0.464629\n",
            "Cost after iteration 635: 0.462614\n",
            "Cost after iteration 640: 0.460628\n",
            "Cost after iteration 645: 0.458669\n",
            "Cost after iteration 650: 0.456737\n",
            "Cost after iteration 655: 0.454832\n",
            "Cost after iteration 660: 0.452953\n",
            "Cost after iteration 665: 0.451101\n",
            "Cost after iteration 670: 0.449274\n",
            "Cost after iteration 675: 0.447472\n",
            "Cost after iteration 680: 0.445696\n",
            "Cost after iteration 685: 0.443943\n",
            "Cost after iteration 690: 0.442215\n",
            "Cost after iteration 695: 0.440510\n",
            "Cost after iteration 700: 0.438827\n",
            "Cost after iteration 705: 0.437168\n",
            "Cost after iteration 710: 0.435531\n",
            "Cost after iteration 715: 0.433915\n",
            "Cost after iteration 720: 0.432321\n",
            "Cost after iteration 725: 0.430747\n",
            "Cost after iteration 730: 0.429194\n",
            "Cost after iteration 735: 0.427661\n",
            "Cost after iteration 740: 0.426147\n",
            "Cost after iteration 745: 0.424653\n",
            "Cost after iteration 750: 0.423177\n",
            "Cost after iteration 755: 0.421719\n",
            "Cost after iteration 760: 0.420279\n",
            "Cost after iteration 765: 0.418857\n",
            "Cost after iteration 770: 0.417452\n",
            "Cost after iteration 775: 0.416063\n",
            "Cost after iteration 780: 0.414690\n",
            "Cost after iteration 785: 0.413334\n",
            "Cost after iteration 790: 0.411993\n",
            "Cost after iteration 795: 0.410667\n",
            "Cost after iteration 800: 0.409356\n",
            "Cost after iteration 805: 0.408059\n",
            "Cost after iteration 810: 0.406776\n",
            "Cost after iteration 815: 0.405507\n",
            "Cost after iteration 820: 0.404252\n",
            "Cost after iteration 825: 0.403009\n",
            "Cost after iteration 830: 0.401780\n",
            "Cost after iteration 835: 0.400563\n",
            "Cost after iteration 840: 0.399358\n",
            "Cost after iteration 845: 0.398165\n",
            "Cost after iteration 850: 0.396984\n",
            "Cost after iteration 855: 0.395814\n",
            "Cost after iteration 860: 0.394655\n",
            "Cost after iteration 865: 0.393507\n",
            "Cost after iteration 870: 0.392370\n",
            "Cost after iteration 875: 0.391244\n",
            "Cost after iteration 880: 0.390127\n",
            "Cost after iteration 885: 0.389021\n",
            "Cost after iteration 890: 0.387924\n",
            "Cost after iteration 895: 0.386837\n",
            "Cost after iteration 900: 0.385760\n",
            "Cost after iteration 905: 0.384691\n",
            "Cost after iteration 910: 0.383632\n",
            "Cost after iteration 915: 0.382582\n",
            "Cost after iteration 920: 0.381541\n",
            "Cost after iteration 925: 0.380508\n",
            "Cost after iteration 930: 0.379483\n",
            "Cost after iteration 935: 0.378467\n",
            "Cost after iteration 940: 0.377459\n",
            "Cost after iteration 945: 0.376460\n",
            "Cost after iteration 950: 0.375468\n",
            "Cost after iteration 955: 0.374484\n",
            "Cost after iteration 960: 0.373508\n",
            "Cost after iteration 965: 0.372539\n",
            "Cost after iteration 970: 0.371578\n",
            "Cost after iteration 975: 0.370625\n",
            "Cost after iteration 980: 0.369679\n",
            "Cost after iteration 985: 0.368740\n",
            "Cost after iteration 990: 0.367808\n",
            "Cost after iteration 995: 0.366884\n"
          ],
          "name": "stdout"
        }
      ]
    },
    {
      "cell_type": "code",
      "metadata": {
        "id": "Cf9n8rKHXfsp"
      },
      "source": [
        "def prediction(weights, X):\r\n",
        "    Activation2, cache = forward_propagation(X, weights)\r\n",
        "    predictions = np.round(Activation2)\r\n",
        "    return predictions"
      ],
      "execution_count": 95,
      "outputs": []
    },
    {
      "cell_type": "markdown",
      "metadata": {
        "id": "YKMTrO7Gc8xa"
      },
      "source": [
        "**Accuracy Calculations**"
      ]
    },
    {
      "cell_type": "code",
      "metadata": {
        "colab": {
          "base_uri": "https://localhost:8080/"
        },
        "id": "mq8R4EhiXvl1",
        "outputId": "4df7833b-374a-4f43-ae4d-80865512dd93"
      },
      "source": [
        "predictions = prediction(final_weights, X_test)\r\n",
        "accuracy=float((np.dot(y_test, predictions.T) + np.dot(1 - y_test, 1 - predictions.T))/float(y_test.size)*100)\r\n",
        "print (\"Accuracy for test data set is \"+str(accuracy)+' %')\r\n"
      ],
      "execution_count": 98,
      "outputs": [
        {
          "output_type": "stream",
          "text": [
            "Accuracy for test data set is 87.75384615384615 %\n"
          ],
          "name": "stdout"
        }
      ]
    },
    {
      "cell_type": "markdown",
      "metadata": {
        "id": "42UpxfncdoNo"
      },
      "source": [
        "# **Now this is done again below using MLPClassifier Library of ScikitLearn to plot graphs and obtain insights**"
      ]
    },
    {
      "cell_type": "code",
      "metadata": {
        "colab": {
          "base_uri": "https://localhost:8080/"
        },
        "id": "bR4zEazHeBpq",
        "outputId": "8273e1ec-8cc6-4979-b3db-dd5e272692b0"
      },
      "source": [
        "import numpy as np\r\n",
        "from sklearn.model_selection import train_test_split\r\n",
        "from sklearn.naive_bayes import MultinomialNB\r\n",
        "from sklearn.preprocessing import LabelEncoder\r\n",
        "import sys\r\n",
        "np.set_printoptions(threshold=sys.maxsize)\r\n",
        "from sklearn.neural_network import MLPClassifier\r\n",
        "from sklearn.svm import SVC\r\n",
        "from sklearn.model_selection import GridSearchCV\r\n",
        "\r\n",
        "\r\n",
        "array_str = np.loadtxt(fname=\"mushrooms.csv\", dtype=str, delimiter=\",\", skiprows=1)\r\n",
        "array = np.zeros(shape=array_str.shape, dtype=int)\r\n",
        "\r\n",
        "\r\n",
        "le = LabelEncoder();\r\n",
        "\r\n",
        "for i in range(array.shape[1]):\r\n",
        "        array[:, i] = le.fit_transform(array_str[:, i])\r\n",
        "\r\n",
        "y = array[:, 0]  \r\n",
        "x = array[:, 1:]\r\n",
        "\r\n",
        "np.savetxt(\"y.csv\", y, delimiter=\",\")\r\n",
        "np.savetxt(\"x.csv\", x, delimiter=\",\")\r\n",
        "\r\n",
        "X_train, X_test, y_train, y_test = train_test_split(x, y, test_size=0.99, random_state=42)\r\n",
        "\r\n",
        "mlp = MLPClassifier(max_iter=2000, learning_rate_init=0.001,)\r\n",
        "\r\n",
        "history=mlp.fit(X_train, y_train)\r\n",
        "\r\n",
        "mlp_train_score = mlp.score(X_train, y_train)\r\n",
        "mlp_test_score = mlp.score(X_test, y_test)\r\n",
        "\r\n",
        "print(\"Accuracy\", mlp_test_score*100,\"%\")"
      ],
      "execution_count": 4,
      "outputs": [
        {
          "output_type": "stream",
          "text": [
            "Accuracy 92.8384930995897 %\n"
          ],
          "name": "stdout"
        }
      ]
    },
    {
      "cell_type": "markdown",
      "metadata": {
        "id": "RLFx6Kl_fqh6"
      },
      "source": [
        "**Cost(error) graph**"
      ]
    },
    {
      "cell_type": "code",
      "metadata": {
        "colab": {
          "base_uri": "https://localhost:8080/",
          "height": 295
        },
        "id": "yYHh7Ud7edf_",
        "outputId": "30012917-31b1-4e97-b7d0-ede640451546"
      },
      "source": [
        "import matplotlib.pyplot as plt\r\n",
        "plt.ylabel('cost')\r\n",
        "plt.xlabel('iterations')\r\n",
        "plt.title(\"Learning rate =\" + str(0.001))\r\n",
        "plt.plot(mlp.loss_curve_)\r\n",
        "plt.show()"
      ],
      "execution_count": 6,
      "outputs": [
        {
          "output_type": "display_data",
          "data": {
            "image/png": "[encoded data removed]",
            "text/plain": [
              "<Figure size 432x288 with 1 Axes>"
            ]
          },
          "metadata": {
            "tags": [],
            "needs_background": "light"
          }
        }
      ]
    },
    {
      "cell_type": "markdown",
      "metadata": {
        "id": "KYnAkh4Xfu-_"
      },
      "source": [
        "**Accuracy graph**"
      ]
    },
    {
      "cell_type": "code",
      "metadata": {
        "colab": {
          "base_uri": "https://localhost:8080/",
          "height": 295
        },
        "id": "v2zWXvl1ej1Z",
        "outputId": "78c94c35-6651-459f-aba8-24cf458ae1e9"
      },
      "source": [
        "from warnings import simplefilter\r\n",
        "from sklearn.exceptions import ConvergenceWarning\r\n",
        "simplefilter(\"ignore\", category=ConvergenceWarning)\r\n",
        "accuracy1=[]\r\n",
        "iteration=[]\r\n",
        "for i in range(1,1000):\r\n",
        "  mlp = MLPClassifier(max_iter=i, learning_rate_init=0.001,)\r\n",
        "  history=mlp.fit(X_train, y_train)\r\n",
        "  mlp_test_score = mlp.score(X_test, y_test)\r\n",
        "  accuracy1.append(mlp_test_score*100)\r\n",
        "  iteration.append(i)\r\n",
        "\r\n",
        "plt.ylabel('accuracy')\r\n",
        "plt.xlabel('iteration')\r\n",
        "plt.title(\"Accuracy curve\")\r\n",
        "plt.plot(iteration, accuracy1,)\r\n",
        "plt.show()"
      ],
      "execution_count": 7,
      "outputs": [
        {
          "output_type": "display_data",
          "data": {
            "image/png": "[encoded data removed]",
            "text/plain": [
              "<Figure size 432x288 with 1 Axes>"
            ]
          },
          "metadata": {
            "tags": [],
            "needs_background": "light"
          }
        }
      ]
    },
    {
      "cell_type": "code",
      "metadata": {
        "colab": {
          "base_uri": "https://localhost:8080/"
        },
        "id": "8GCb_o56epch",
        "outputId": "799722fa-5a87-499d-dd2b-b54f5b56c4ea"
      },
      "source": [
        "output_prediction = mlp.predict(X_test)\r\n",
        "print(output_prediction[4])"
      ],
      "execution_count": 8,
      "outputs": [
        {
          "output_type": "stream",
          "text": [
            "1\n"
          ],
          "name": "stdout"
        }
      ]
    }
  ]
}